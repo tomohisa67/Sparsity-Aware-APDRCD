{
 "cells": [
  {
   "cell_type": "code",
   "execution_count": 4,
   "metadata": {},
   "outputs": [],
   "source": [
    "from algorithms.apdrcd import apdrcd\n",
    "from algorithms.sa_apdrcd import sa_apdrcd\n",
    "\n",
    "import numpy as np\n",
    "import sys\n",
    "import os\n",
    "import matplotlib.pyplot as plt\n",
    "%matplotlib inline"
   ]
  },
  {
   "cell_type": "code",
   "execution_count": 5,
   "metadata": {},
   "outputs": [],
   "source": [
    "n = 100\n",
    "m = 100\n",
    "\n",
    "np.random.seed(101)\n",
    "r = np.random.rand(n)\n",
    "np.random.seed(102)\n",
    "l = np.random.rand(m)\n",
    "r = r / np.sum(r)\n",
    "l = l / np.sum(l)\n",
    "np.random.seed(111)\n",
    "C = 10*np.random.rand(n,m)"
   ]
  },
  {
   "cell_type": "code",
   "execution_count": 8,
   "metadata": {},
   "outputs": [],
   "source": [
    "eta = 1\n",
    "maxIter = 4000"
   ]
  },
  {
   "cell_type": "code",
   "execution_count": 31,
   "metadata": {},
   "outputs": [],
   "source": [
    "x1 = np.zeros(n*m)\n",
    "x2 = np.zeros(n*m)\n",
    "ii = np.arange(maxIter)\n",
    "err1 = []\n",
    "err2 = []\n",
    "time1 = []\n",
    "time2 = []\n",
    "ot1 = []\n",
    "ot2 = []"
   ]
  },
  {
   "cell_type": "code",
   "execution_count": 32,
   "metadata": {},
   "outputs": [
    {
     "ename": "TypeError",
     "evalue": "'numpy.float64' object does not support item assignment",
     "output_type": "error",
     "traceback": [
      "\u001b[0;31m---------------------------------------------------------------------------\u001b[0m",
      "\u001b[0;31mTypeError\u001b[0m                                 Traceback (most recent call last)",
      "\u001b[1;32mセル7 を /Users/tabuchitomohisa/Desktop/sparsity-aware-apdrcd/plot_apdrcd.ipynb\u001b[0m in \u001b[0;36m<cell line: 1>\u001b[0;34m()\u001b[0m\n\u001b[0;32m----> <a href='vscode-notebook-cell:/Users/tabuchitomohisa/Desktop/sparsity-aware-apdrcd/plot_apdrcd.ipynb#W4sZmlsZQ%3D%3D?line=0'>1</a>\u001b[0m x1, err1, time1, ot1 \u001b[39m=\u001b[39m apdrcd(r, l, C, eta, maxIter\u001b[39m=\u001b[39;49m\u001b[39m4000\u001b[39;49m, err_flag\u001b[39m=\u001b[39;49m\u001b[39m1\u001b[39;49m, time_flag\u001b[39m=\u001b[39;49m\u001b[39m1\u001b[39;49m, value_flag\u001b[39m=\u001b[39;49m\u001b[39m1\u001b[39;49m)\n",
      "File \u001b[0;32m~/Desktop/sparsity-aware-apdrcd/algorithms/apdrcd.py:78\u001b[0m, in \u001b[0;36mapdrcd\u001b[0;34m(r, l, C, reg, maxIter, err_flag, time_flag, value_flag)\u001b[0m\n\u001b[1;32m     76\u001b[0m \u001b[39m# Hx = H[j]@x\u001b[39;00m\n\u001b[1;32m     77\u001b[0m u[j] \u001b[39m=\u001b[39m y[j] \u001b[39m-\u001b[39m \u001b[39m1\u001b[39m\u001b[39m/\u001b[39mL\u001b[39m*\u001b[39m(H[j]\u001b[39m@x\u001b[39m\u001b[39m-\u001b[39mb[j])\n\u001b[0;32m---> 78\u001b[0m v[j] \u001b[39m=\u001b[39m y[j] \u001b[39m-\u001b[39m \u001b[39m1\u001b[39m\u001b[39m/\u001b[39m((ns\u001b[39m+\u001b[39mnt)\u001b[39m*\u001b[39mL\u001b[39m*\u001b[39mtheta)\u001b[39m*\u001b[39m(H[j]\u001b[39m@x\u001b[39m\u001b[39m-\u001b[39mb[j])\n\u001b[1;32m     80\u001b[0m Ck \u001b[39m=\u001b[39m Ck \u001b[39m+\u001b[39m \u001b[39m1\u001b[39m\u001b[39m/\u001b[39mtheta\n\u001b[1;32m     81\u001b[0m theta \u001b[39m=\u001b[39m \u001b[39m-\u001b[39mtheta\u001b[39m*\u001b[39m\u001b[39m*\u001b[39m\u001b[39m2\u001b[39m \u001b[39m+\u001b[39m np\u001b[39m.\u001b[39msqrt(theta\u001b[39m*\u001b[39m\u001b[39m*\u001b[39m\u001b[39m4\u001b[39m \u001b[39m+\u001b[39m \u001b[39m4\u001b[39m\u001b[39m*\u001b[39mtheta\u001b[39m*\u001b[39m\u001b[39m*\u001b[39m\u001b[39m2\u001b[39m)\n",
      "\u001b[0;31mTypeError\u001b[0m: 'numpy.float64' object does not support item assignment"
     ]
    }
   ],
   "source": [
    "x1, err1, time1, ot1 = apdrcd(r, l, C, eta, maxIter, err_flag=1, time_flag=1, value_flag=1)\n",
    "x2, err2, time2, ot2 = sa_apdrcd(r, l, C, eta, maxIter, err_flag=1, time_flag=1, value_flag=1)"
   ]
  },
  {
   "cell_type": "markdown",
   "metadata": {},
   "source": [
    "### Error - Iteration"
   ]
  },
  {
   "cell_type": "code",
   "execution_count": 58,
   "metadata": {},
   "outputs": [],
   "source": [
    "fig, ax = plt.subplots(facecolor=\"w\")\n",
    "ax.plot(ii, err1, label=\"original\")\n",
    "ax.plot(ii, err2, label=\"sparsity-aware\")\n",
    "ax.legend()\n",
    "ax.set_xlabel(\"iteration\")\n",
    "ax.set_ylabel(\"$||Ax-b||_1$\")\n",
    "plt.show()"
   ]
  },
  {
   "cell_type": "markdown",
   "metadata": {},
   "source": [
    "### Time (s) - Iteration"
   ]
  },
  {
   "cell_type": "code",
   "execution_count": null,
   "metadata": {},
   "outputs": [],
   "source": [
    "fig, ax = plt.subplots(facecolor=\"w\")\n",
    "ax.plot(ii, time1, label=\"original\")\n",
    "ax.plot(ii, time2, label=\"sparsity-aware\")\n",
    "ax.legend()\n",
    "ax.set_xlabel(\"iteration\")\n",
    "ax.set_ylabel(\"time (s)\")\n",
    "plt.show()"
   ]
  },
  {
   "cell_type": "markdown",
   "metadata": {},
   "source": [
    "### OT-value - Iteration"
   ]
  },
  {
   "cell_type": "code",
   "execution_count": null,
   "metadata": {},
   "outputs": [],
   "source": [
    "fig, ax = plt.subplots(facecolor=\"w\")\n",
    "ax.plot(ii, ot1, label=\"original\")\n",
    "ax.plot(ii, ot2, label=\"sparsity-aware\")\n",
    "ax.legend()\n",
    "ax.set_xlabel(\"iteration\")\n",
    "ax.set_ylabel(\"ot_value\")\n",
    "plt.show()"
   ]
  },
  {
   "cell_type": "markdown",
   "metadata": {},
   "source": [
    "### Transport Matrix"
   ]
  },
  {
   "cell_type": "code",
   "execution_count": 13,
   "metadata": {},
   "outputs": [
    {
     "data": {
      "image/png": "[encoded data removed]",
      "text/plain": [
       "<Figure size 800x600 with 1 Axes>"
      ]
     },
     "metadata": {},
     "output_type": "display_data"
    }
   ],
   "source": [
    "x1 = np.ones(n*m)\n",
    "X = np.reshape(x1, [n,m])\n",
    "\n",
    "fig = plt.figure(figsize=(8,6))\n",
    "plt.imshow(X)\n",
    "plt.title(\"X\")\n",
    "plt.show()"
   ]
  },
  {
   "cell_type": "code",
   "execution_count": null,
   "metadata": {},
   "outputs": [],
   "source": []
  }
 ],
 "metadata": {
  "kernelspec": {
   "display_name": "Python 3.9.6 64-bit ('3.9.6')",
   "language": "python",
   "name": "python3"
  },
  "language_info": {
   "codemirror_mode": {
    "name": "ipython",
    "version": 3
   },
   "file_extension": ".py",
   "mimetype": "text/x-python",
   "name": "python",
   "nbconvert_exporter": "python",
   "pygments_lexer": "ipython3",
   "version": "3.9.6"
  },
  "orig_nbformat": 4,
  "vscode": {
   "interpreter": {
    "hash": "551a3cd2589aa36e09bdd27d4a936a1a4d5e50d452c44b791d54413d1f878f9b"
   }
  }
 },
 "nbformat": 4,
 "nbformat_minor": 2
}
